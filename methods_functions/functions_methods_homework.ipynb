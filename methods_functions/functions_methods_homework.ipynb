{
 "cells": [
  {
   "cell_type": "code",
   "execution_count": 6,
   "metadata": {
    "collapsed": true
   },
   "outputs": [],
   "source": [
    "# Write a function that computes the volume of a sphere\n",
    "pi = 3.14\n",
    "\n",
    "\n",
    "def vol(rad):\n",
    "    return 4 / 3 * pi * rad ** 3\n"
   ]
  },
  {
   "cell_type": "code",
   "execution_count": 7,
   "metadata": {},
   "outputs": [
    {
     "data": {
      "text/plain": [
       "33.49333333333333"
      ]
     },
     "execution_count": 7,
     "metadata": {},
     "output_type": "execute_result"
    }
   ],
   "source": [
    "vol(2)"
   ]
  },
  {
   "cell_type": "code",
   "execution_count": 8,
   "metadata": {},
   "outputs": [],
   "source": [
    "# Write a function that checks whether a number is in a given range (inclusive of high and low)\n",
    "\n",
    "def ran_check(num, low, high):\n",
    "    return num in range(low, high + 1)"
   ]
  },
  {
   "cell_type": "code",
   "execution_count": 13,
   "metadata": {},
   "outputs": [
    {
     "data": {
      "text/plain": [
       "False"
      ]
     },
     "execution_count": 13,
     "metadata": {},
     "output_type": "execute_result"
    }
   ],
   "source": [
    "ran_check(5, 6, 11)"
   ]
  },
  {
   "cell_type": "code",
   "execution_count": 51,
   "metadata": {},
   "outputs": [],
   "source": [
    "# Write a Python function that accepts a string and calculates the number of upper case letters and lower case letters.\n",
    "\n",
    "def up_low(str):\n",
    "    d={\"upper\":0, \"lower\":0}\n",
    "    # upper = []\n",
    "    # lower = []\n",
    "    for char in str:\n",
    "        if char.isupper():\n",
    "            d[\"upper\"] += 1\n",
    "            # upper.append(char)\n",
    "        elif char.islower():\n",
    "            d[\"lower\"] += 1\n",
    "            # lower.append(char)\n",
    "    print(\"No. of upper-case characters in the string: \", d[\"upper\"])\n",
    "    # print(f\"No. of upper-case characters in the string: {len(upper)}\")\n",
    "    print(f\"No. of lower-case characters in the string: \", d[\"lower\"])\n",
    "    # print(f\"No. of lower-case characters in the string: {len(lower)}\")\n",
    "    "
   ]
  },
  {
   "cell_type": "code",
   "execution_count": 52,
   "metadata": {},
   "outputs": [
    {
     "name": "stdout",
     "output_type": "stream",
     "text": [
      "No. of upper-case characters in the string:  4\nNo. of lower-case characters in the string:  33\n"
     ]
    }
   ],
   "source": [
    "up_low(\"Hello, Mr. Rogers, how are you this fine Tuesday?\")"
   ]
  },
  {
   "cell_type": "code",
   "execution_count": 27,
   "metadata": {},
   "outputs": [],
   "source": [
    "# Write a Python function that takes a list and returns a new list with unique elements of the first list.\n",
    "\n",
    "\n",
    "def unique_list(lst):\n",
    "    # unique = []\n",
    "    # for item in lst:\n",
    "    #     if item not in unique:\n",
    "    #         unique.append(item)\n",
    "    # return unique\n",
    "    return(list(set(lst)))"
   ]
  },
  {
   "cell_type": "code",
   "execution_count": 28,
   "metadata": {},
   "outputs": [
    {
     "data": {
      "text/plain": [
       "[1, 2, 3, 4, 5]"
      ]
     },
     "execution_count": 28,
     "metadata": {},
     "output_type": "execute_result"
    }
   ],
   "source": [
    "unique_list([1,1,1,1,2,2,3,3,3,3,3,4,4,4,5,5])"
   ]
  },
  {
   "cell_type": "code",
   "execution_count": 23,
   "metadata": {},
   "outputs": [],
   "source": [
    "# Write a Python function to multiply all the numbers in a list.\n",
    "\n",
    "\n",
    "def multiply(numbers):\n",
    "    mult = 1\n",
    "    if len(numbers) == 0:\n",
    "        return 0\n",
    "    for num in numbers:\n",
    "        mult *= num\n",
    "    return mult"
   ]
  },
  {
   "cell_type": "code",
   "execution_count": 24,
   "metadata": {},
   "outputs": [
    {
     "data": {
      "text/plain": [
       "-24"
      ]
     },
     "execution_count": 24,
     "metadata": {},
     "output_type": "execute_result"
    }
   ],
   "source": [
    "multiply([1,2,3,-4])"
   ]
  },
  {
   "cell_type": "code",
   "execution_count": 30,
   "metadata": {},
   "outputs": [],
   "source": [
    "# Write a Python function that checks whether a passed in string is palindrome or not.\n",
    "\n",
    "def palindrome(str):\n",
    "    return str == str[::-1]"
   ]
  },
  {
   "cell_type": "code",
   "execution_count": 33,
   "metadata": {},
   "outputs": [
    {
     "data": {
      "text/plain": [
       "False"
      ]
     },
     "execution_count": 33,
     "metadata": {},
     "output_type": "execute_result"
    }
   ],
   "source": [
    "palindrome('kyle')"
   ]
  },
  {
   "cell_type": "code",
   "execution_count": 32,
   "metadata": {},
   "outputs": [
    {
     "data": {
      "text/plain": [
       "True"
      ]
     },
     "execution_count": 32,
     "metadata": {},
     "output_type": "execute_result"
    }
   ],
   "source": [
    "palindrome('racecar')"
   ]
  },
  {
   "cell_type": "code",
   "execution_count": 48,
   "metadata": {},
   "outputs": [],
   "source": [
    "# Write a Python function to check whether a string is pangram or not.\n",
    "# Pangrams are words or sentences containing every letter of the alphabet at least once.\n",
    "\n",
    "import string\n",
    "\n",
    "def is_pangram(str, alphabet=string.ascii_lowercase):\n",
    "    pangram = []\n",
    "    for char in str:\n",
    "        if char.lower() in alphabet:\n",
    "            pangram.append(char.lower())\n",
    "    return len(set(pangram)) == 26\n",
    "\n",
    "        "
   ]
  },
  {
   "cell_type": "code",
   "execution_count": 49,
   "metadata": {},
   "outputs": [
    {
     "data": {
      "text/plain": [
       "True"
      ]
     },
     "execution_count": 49,
     "metadata": {},
     "output_type": "execute_result"
    }
   ],
   "source": [
    "is_pangram(\"The quick brown fox jumps over the lazy dog\")"
   ]
  },
  {
   "cell_type": "code",
   "execution_count": null,
   "metadata": {},
   "outputs": [],
   "source": []
  }
 ],
 "metadata": {
  "kernelspec": {
   "display_name": "Python 2",
   "language": "python",
   "name": "python2"
  },
  "language_info": {
   "codemirror_mode": {
    "name": "ipython",
    "version": 2
   },
   "file_extension": ".py",
   "mimetype": "text/x-python",
   "name": "python",
   "nbconvert_exporter": "python",
   "pygments_lexer": "ipython2",
   "version": "2.7.6"
  }
 },
 "nbformat": 4,
 "nbformat_minor": 0
}
